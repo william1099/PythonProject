{
 "cells": [
  {
   "cell_type": "code",
   "execution_count": 1,
   "metadata": {},
   "outputs": [],
   "source": [
    "from get_data import get_data"
   ]
  },
  {
   "cell_type": "code",
   "execution_count": 2,
   "metadata": {},
   "outputs": [
    {
     "name": "stdout",
     "output_type": "stream",
     "text": [
      "time data '\\ufeff2019-02-20_14:15:15' does not match format '%Y-%m-%d_%H:%M:%S'\n",
      "list index out of range\n",
      "(789, 4)\n"
     ]
    }
   ],
   "source": [
    "dt = get_data(\"chat.log\");\n",
    "print(dt.shape);"
   ]
  },
  {
   "cell_type": "code",
   "execution_count": 3,
   "metadata": {},
   "outputs": [],
   "source": [
    "dt.head();"
   ]
  },
  {
   "cell_type": "code",
   "execution_count": 4,
   "metadata": {},
   "outputs": [
    {
     "data": {
      "text/html": [
       "<div>\n",
       "<style scoped>\n",
       "    .dataframe tbody tr th:only-of-type {\n",
       "        vertical-align: middle;\n",
       "    }\n",
       "\n",
       "    .dataframe tbody tr th {\n",
       "        vertical-align: top;\n",
       "    }\n",
       "\n",
       "    .dataframe thead th {\n",
       "        text-align: right;\n",
       "    }\n",
       "</style>\n",
       "<table border=\"1\" class=\"dataframe\">\n",
       "  <thead>\n",
       "    <tr style=\"text-align: right;\">\n",
       "      <th></th>\n",
       "      <th>Channel</th>\n",
       "      <th>Message</th>\n",
       "      <th>Time</th>\n",
       "      <th>Username</th>\n",
       "    </tr>\n",
       "  </thead>\n",
       "  <tbody>\n",
       "    <tr>\n",
       "      <th>0</th>\n",
       "      <td>beyondthesummit</td>\n",
       "      <td>Lul</td>\n",
       "      <td>2019-02-20 14:15:17</td>\n",
       "      <td>getstherefirst</td>\n",
       "    </tr>\n",
       "    <tr>\n",
       "      <th>1</th>\n",
       "      <td>beyondthesummit</td>\n",
       "      <td>Pick Techies ANELE Clap</td>\n",
       "      <td>2019-02-20 14:15:17</td>\n",
       "      <td>icecoldkilla7</td>\n",
       "    </tr>\n",
       "    <tr>\n",
       "      <th>2</th>\n",
       "      <td>beyondthesummit</td>\n",
       "      <td>no pepeW</td>\n",
       "      <td>2019-02-20 14:15:17</td>\n",
       "      <td>13ig_dlck_cheney!13ig_dlck_cheney@13ig_dlck_ch...</td>\n",
       "    </tr>\n",
       "    <tr>\n",
       "      <th>3</th>\n",
       "      <td>beyondthesummit</td>\n",
       "      <td>CoolCat</td>\n",
       "      <td>2019-02-20 14:15:18</td>\n",
       "      <td>majorajer</td>\n",
       "    </tr>\n",
       "    <tr>\n",
       "      <th>4</th>\n",
       "      <td>beyondthesummit</td>\n",
       "      <td>DRUID PICKERS DansGame</td>\n",
       "      <td>2019-02-20 14:15:19</td>\n",
       "      <td>thecop03</td>\n",
       "    </tr>\n",
       "  </tbody>\n",
       "</table>\n",
       "</div>"
      ],
      "text/plain": [
       "           Channel                  Message                Time  \\\n",
       "0  beyondthesummit                      Lul 2019-02-20 14:15:17   \n",
       "1  beyondthesummit  Pick Techies ANELE Clap 2019-02-20 14:15:17   \n",
       "2  beyondthesummit                 no pepeW 2019-02-20 14:15:17   \n",
       "3  beyondthesummit                  CoolCat 2019-02-20 14:15:18   \n",
       "4  beyondthesummit   DRUID PICKERS DansGame 2019-02-20 14:15:19   \n",
       "\n",
       "                                            Username  \n",
       "0                                     getstherefirst  \n",
       "1                                      icecoldkilla7  \n",
       "2  13ig_dlck_cheney!13ig_dlck_cheney@13ig_dlck_ch...  \n",
       "3                                          majorajer  \n",
       "4                                           thecop03  "
      ]
     },
     "execution_count": 4,
     "metadata": {},
     "output_type": "execute_result"
    }
   ],
   "source": [
    "dt.head()"
   ]
  },
  {
   "cell_type": "code",
   "execution_count": null,
   "metadata": {},
   "outputs": [],
   "source": []
  }
 ],
 "metadata": {
  "kernelspec": {
   "display_name": "Python 3",
   "language": "python",
   "name": "python3"
  },
  "language_info": {
   "codemirror_mode": {
    "name": "ipython",
    "version": 3
   },
   "file_extension": ".py",
   "mimetype": "text/x-python",
   "name": "python",
   "nbconvert_exporter": "python",
   "pygments_lexer": "ipython3",
   "version": "3.6.8"
  }
 },
 "nbformat": 4,
 "nbformat_minor": 2
}
